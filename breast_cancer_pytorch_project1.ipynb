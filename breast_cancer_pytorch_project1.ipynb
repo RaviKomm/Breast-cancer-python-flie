{
 "cells": [
  {
   "cell_type": "markdown",
   "id": "436d9f7e",
   "metadata": {},
   "source": [
    "# Breast Cancer Prediction using PyTorch\n",
    "\n",
    "This project builds a classifier to predict if a breast tumor is malignant or benign based on features extracted from cell nuclei images. This is a binary classification task with applications in healthcare for early cancer detection.\n",
    "\n",
    "### Objective\n",
    "The main objective is to use the Breast Cancer Wisconsin (Diagnostic) Dataset to train and evaluate a neural network model using PyTorch, classifying breast tumors as benign or malignant with high accuracy.\n"
   ]
  },
  {
   "cell_type": "markdown",
   "id": "9a8729a4-44bf-41dc-a446-56bd6636bc77",
   "metadata": {},
   "source": [
    "## Step 1: Install Necessary Libraries\n",
    "\n",
    "installing PyTorch and other libraries for data processing and model building. Run the cell below to install these libraries \n"
   ]
  },
  {
   "cell_type": "code",
   "execution_count": 1,
   "id": "c4d1200d-dc32-423f-9518-884d8a927c04",
   "metadata": {},
   "outputs": [
    {
     "name": "stdout",
     "output_type": "stream",
     "text": [
      "Defaulting to user installation because normal site-packages is not writeable\n",
      "Requirement already satisfied: torch in c:\\users\\ravi\\appdata\\roaming\\python\\python39\\site-packages (2.1.1)\n",
      "Requirement already satisfied: torchvision in c:\\users\\ravi\\appdata\\roaming\\python\\python39\\site-packages (0.16.1)\n",
      "Requirement already satisfied: pandas in c:\\programdata\\anaconda3\\lib\\site-packages (1.4.4)\n",
      "Requirement already satisfied: scikit-learn in c:\\programdata\\anaconda3\\lib\\site-packages (1.0.2)\n",
      "Requirement already satisfied: networkx in c:\\programdata\\anaconda3\\lib\\site-packages (from torch) (2.8.4)\n",
      "Requirement already satisfied: typing-extensions in c:\\programdata\\anaconda3\\lib\\site-packages (from torch) (4.3.0)\n",
      "Requirement already satisfied: filelock in c:\\programdata\\anaconda3\\lib\\site-packages (from torch) (3.6.0)\n",
      "Requirement already satisfied: sympy in c:\\programdata\\anaconda3\\lib\\site-packages (from torch) (1.10.1)\n",
      "Requirement already satisfied: jinja2 in c:\\programdata\\anaconda3\\lib\\site-packages (from torch) (2.11.3)\n",
      "Requirement already satisfied: fsspec in c:\\programdata\\anaconda3\\lib\\site-packages (from torch) (2022.7.1)\n",
      "Requirement already satisfied: pillow!=8.3.*,>=5.3.0 in c:\\programdata\\anaconda3\\lib\\site-packages (from torchvision) (9.2.0)\n",
      "Requirement already satisfied: requests in c:\\programdata\\anaconda3\\lib\\site-packages (from torchvision) (2.28.1)\n",
      "Requirement already satisfied: numpy in c:\\users\\ravi\\appdata\\roaming\\python\\python39\\site-packages (from torchvision) (1.24.4)\n",
      "Requirement already satisfied: python-dateutil>=2.8.1 in c:\\programdata\\anaconda3\\lib\\site-packages (from pandas) (2.8.2)\n",
      "Requirement already satisfied: pytz>=2020.1 in c:\\programdata\\anaconda3\\lib\\site-packages (from pandas) (2022.1)\n",
      "Requirement already satisfied: scipy>=1.1.0 in c:\\programdata\\anaconda3\\lib\\site-packages (from scikit-learn) (1.9.1)\n",
      "Requirement already satisfied: joblib>=0.11 in c:\\programdata\\anaconda3\\lib\\site-packages (from scikit-learn) (1.1.0)\n",
      "Requirement already satisfied: threadpoolctl>=2.0.0 in c:\\programdata\\anaconda3\\lib\\site-packages (from scikit-learn) (2.2.0)\n",
      "Requirement already satisfied: six>=1.5 in c:\\programdata\\anaconda3\\lib\\site-packages (from python-dateutil>=2.8.1->pandas) (1.16.0)\n",
      "Requirement already satisfied: MarkupSafe>=0.23 in c:\\programdata\\anaconda3\\lib\\site-packages (from jinja2->torch) (2.0.1)\n",
      "Requirement already satisfied: certifi>=2017.4.17 in c:\\programdata\\anaconda3\\lib\\site-packages (from requests->torchvision) (2022.9.14)\n",
      "Requirement already satisfied: idna<4,>=2.5 in c:\\programdata\\anaconda3\\lib\\site-packages (from requests->torchvision) (3.3)\n",
      "Requirement already satisfied: charset-normalizer<3,>=2 in c:\\programdata\\anaconda3\\lib\\site-packages (from requests->torchvision) (2.0.4)\n",
      "Requirement already satisfied: urllib3<1.27,>=1.21.1 in c:\\programdata\\anaconda3\\lib\\site-packages (from requests->torchvision) (1.26.11)\n",
      "Requirement already satisfied: mpmath>=0.19 in c:\\programdata\\anaconda3\\lib\\site-packages (from sympy->torch) (1.2.1)\n"
     ]
    }
   ],
   "source": [
    "!pip install torch torchvision pandas scikit-learn"
   ]
  },
  {
   "cell_type": "markdown",
   "id": "ebe5cdc3-5a7d-4b9a-a217-3c974d0f9e38",
   "metadata": {},
   "source": [
    "## Step 2: Import Libraries\n",
    "\n",
    "After installing, importing required libraries for data processing, model building, and evaluation.\n"
   ]
  },
  {
   "cell_type": "code",
   "execution_count": 2,
   "id": "10e470e5",
   "metadata": {},
   "outputs": [],
   "source": [
    "import pandas as pd\n",
    "import torch\n",
    "from sklearn.model_selection import train_test_split\n",
    "from sklearn.preprocessing import StandardScaler\n",
    "from sklearn.metrics import accuracy_score\n",
    "import torch.nn as nn\n",
    "from torch.utils.data import Dataset, DataLoader\n"
   ]
  },
  {
   "cell_type": "markdown",
   "id": "d99bac58-928b-400c-8a3f-01e38f682d25",
   "metadata": {},
   "source": [
    "## Step 3: Load and Explore the Dataset\n",
    "\n",
    "The Breast Cancer Wisconsin (Diagnostic) dataset is loaded from the UCI repository. It contains 30 features computed from digitized images of breast tumors, labeled as benign or malignant.\n"
   ]
  },
  {
   "cell_type": "code",
   "execution_count": 3,
   "id": "7a6495d0",
   "metadata": {},
   "outputs": [
    {
     "data": {
      "text/html": [
       "<div>\n",
       "<style scoped>\n",
       "    .dataframe tbody tr th:only-of-type {\n",
       "        vertical-align: middle;\n",
       "    }\n",
       "\n",
       "    .dataframe tbody tr th {\n",
       "        vertical-align: top;\n",
       "    }\n",
       "\n",
       "    .dataframe thead th {\n",
       "        text-align: right;\n",
       "    }\n",
       "</style>\n",
       "<table border=\"1\" class=\"dataframe\">\n",
       "  <thead>\n",
       "    <tr style=\"text-align: right;\">\n",
       "      <th></th>\n",
       "      <th>Diagnosis</th>\n",
       "      <th>feature_1</th>\n",
       "      <th>feature_2</th>\n",
       "      <th>feature_3</th>\n",
       "      <th>feature_4</th>\n",
       "      <th>feature_5</th>\n",
       "      <th>feature_6</th>\n",
       "      <th>feature_7</th>\n",
       "      <th>feature_8</th>\n",
       "      <th>feature_9</th>\n",
       "      <th>...</th>\n",
       "      <th>feature_21</th>\n",
       "      <th>feature_22</th>\n",
       "      <th>feature_23</th>\n",
       "      <th>feature_24</th>\n",
       "      <th>feature_25</th>\n",
       "      <th>feature_26</th>\n",
       "      <th>feature_27</th>\n",
       "      <th>feature_28</th>\n",
       "      <th>feature_29</th>\n",
       "      <th>feature_30</th>\n",
       "    </tr>\n",
       "  </thead>\n",
       "  <tbody>\n",
       "    <tr>\n",
       "      <th>0</th>\n",
       "      <td>M</td>\n",
       "      <td>17.99</td>\n",
       "      <td>10.38</td>\n",
       "      <td>122.80</td>\n",
       "      <td>1001.0</td>\n",
       "      <td>0.11840</td>\n",
       "      <td>0.27760</td>\n",
       "      <td>0.3001</td>\n",
       "      <td>0.14710</td>\n",
       "      <td>0.2419</td>\n",
       "      <td>...</td>\n",
       "      <td>25.38</td>\n",
       "      <td>17.33</td>\n",
       "      <td>184.60</td>\n",
       "      <td>2019.0</td>\n",
       "      <td>0.1622</td>\n",
       "      <td>0.6656</td>\n",
       "      <td>0.7119</td>\n",
       "      <td>0.2654</td>\n",
       "      <td>0.4601</td>\n",
       "      <td>0.11890</td>\n",
       "    </tr>\n",
       "    <tr>\n",
       "      <th>1</th>\n",
       "      <td>M</td>\n",
       "      <td>20.57</td>\n",
       "      <td>17.77</td>\n",
       "      <td>132.90</td>\n",
       "      <td>1326.0</td>\n",
       "      <td>0.08474</td>\n",
       "      <td>0.07864</td>\n",
       "      <td>0.0869</td>\n",
       "      <td>0.07017</td>\n",
       "      <td>0.1812</td>\n",
       "      <td>...</td>\n",
       "      <td>24.99</td>\n",
       "      <td>23.41</td>\n",
       "      <td>158.80</td>\n",
       "      <td>1956.0</td>\n",
       "      <td>0.1238</td>\n",
       "      <td>0.1866</td>\n",
       "      <td>0.2416</td>\n",
       "      <td>0.1860</td>\n",
       "      <td>0.2750</td>\n",
       "      <td>0.08902</td>\n",
       "    </tr>\n",
       "    <tr>\n",
       "      <th>2</th>\n",
       "      <td>M</td>\n",
       "      <td>19.69</td>\n",
       "      <td>21.25</td>\n",
       "      <td>130.00</td>\n",
       "      <td>1203.0</td>\n",
       "      <td>0.10960</td>\n",
       "      <td>0.15990</td>\n",
       "      <td>0.1974</td>\n",
       "      <td>0.12790</td>\n",
       "      <td>0.2069</td>\n",
       "      <td>...</td>\n",
       "      <td>23.57</td>\n",
       "      <td>25.53</td>\n",
       "      <td>152.50</td>\n",
       "      <td>1709.0</td>\n",
       "      <td>0.1444</td>\n",
       "      <td>0.4245</td>\n",
       "      <td>0.4504</td>\n",
       "      <td>0.2430</td>\n",
       "      <td>0.3613</td>\n",
       "      <td>0.08758</td>\n",
       "    </tr>\n",
       "    <tr>\n",
       "      <th>3</th>\n",
       "      <td>M</td>\n",
       "      <td>11.42</td>\n",
       "      <td>20.38</td>\n",
       "      <td>77.58</td>\n",
       "      <td>386.1</td>\n",
       "      <td>0.14250</td>\n",
       "      <td>0.28390</td>\n",
       "      <td>0.2414</td>\n",
       "      <td>0.10520</td>\n",
       "      <td>0.2597</td>\n",
       "      <td>...</td>\n",
       "      <td>14.91</td>\n",
       "      <td>26.50</td>\n",
       "      <td>98.87</td>\n",
       "      <td>567.7</td>\n",
       "      <td>0.2098</td>\n",
       "      <td>0.8663</td>\n",
       "      <td>0.6869</td>\n",
       "      <td>0.2575</td>\n",
       "      <td>0.6638</td>\n",
       "      <td>0.17300</td>\n",
       "    </tr>\n",
       "    <tr>\n",
       "      <th>4</th>\n",
       "      <td>M</td>\n",
       "      <td>20.29</td>\n",
       "      <td>14.34</td>\n",
       "      <td>135.10</td>\n",
       "      <td>1297.0</td>\n",
       "      <td>0.10030</td>\n",
       "      <td>0.13280</td>\n",
       "      <td>0.1980</td>\n",
       "      <td>0.10430</td>\n",
       "      <td>0.1809</td>\n",
       "      <td>...</td>\n",
       "      <td>22.54</td>\n",
       "      <td>16.67</td>\n",
       "      <td>152.20</td>\n",
       "      <td>1575.0</td>\n",
       "      <td>0.1374</td>\n",
       "      <td>0.2050</td>\n",
       "      <td>0.4000</td>\n",
       "      <td>0.1625</td>\n",
       "      <td>0.2364</td>\n",
       "      <td>0.07678</td>\n",
       "    </tr>\n",
       "  </tbody>\n",
       "</table>\n",
       "<p>5 rows × 31 columns</p>\n",
       "</div>"
      ],
      "text/plain": [
       "  Diagnosis  feature_1  feature_2  feature_3  feature_4  feature_5  feature_6  \\\n",
       "0         M      17.99      10.38     122.80     1001.0    0.11840    0.27760   \n",
       "1         M      20.57      17.77     132.90     1326.0    0.08474    0.07864   \n",
       "2         M      19.69      21.25     130.00     1203.0    0.10960    0.15990   \n",
       "3         M      11.42      20.38      77.58      386.1    0.14250    0.28390   \n",
       "4         M      20.29      14.34     135.10     1297.0    0.10030    0.13280   \n",
       "\n",
       "   feature_7  feature_8  feature_9  ...  feature_21  feature_22  feature_23  \\\n",
       "0     0.3001    0.14710     0.2419  ...       25.38       17.33      184.60   \n",
       "1     0.0869    0.07017     0.1812  ...       24.99       23.41      158.80   \n",
       "2     0.1974    0.12790     0.2069  ...       23.57       25.53      152.50   \n",
       "3     0.2414    0.10520     0.2597  ...       14.91       26.50       98.87   \n",
       "4     0.1980    0.10430     0.1809  ...       22.54       16.67      152.20   \n",
       "\n",
       "   feature_24  feature_25  feature_26  feature_27  feature_28  feature_29  \\\n",
       "0      2019.0      0.1622      0.6656      0.7119      0.2654      0.4601   \n",
       "1      1956.0      0.1238      0.1866      0.2416      0.1860      0.2750   \n",
       "2      1709.0      0.1444      0.4245      0.4504      0.2430      0.3613   \n",
       "3       567.7      0.2098      0.8663      0.6869      0.2575      0.6638   \n",
       "4      1575.0      0.1374      0.2050      0.4000      0.1625      0.2364   \n",
       "\n",
       "   feature_30  \n",
       "0     0.11890  \n",
       "1     0.08902  \n",
       "2     0.08758  \n",
       "3     0.17300  \n",
       "4     0.07678  \n",
       "\n",
       "[5 rows x 31 columns]"
      ]
     },
     "execution_count": 3,
     "metadata": {},
     "output_type": "execute_result"
    }
   ],
   "source": [
    "url = \"https://archive.ics.uci.edu/ml/machine-learning-databases/breast-cancer-wisconsin/wdbc.data\"\n",
    "columns = [\"ID\", \"Diagnosis\"] + [f\"feature_{i}\" for i in range(1, 31)]\n",
    "data = pd.read_csv(url, header=None, names=columns)\n",
    "data.drop(\"ID\", axis=1, inplace=True)  # Drop the ID column as it is not useful for prediction\n",
    "data.head()"
   ]
  },
  {
   "cell_type": "markdown",
   "id": "fbc21d49-926e-4d90-89fd-77972ee41a28",
   "metadata": {},
   "source": [
    "## Step 4: Data Preprocessing\n",
    "\n",
    "In this step, we preprocess the data by converting labels, scaling features, and splitting the data into training, validation, and test sets.\n"
   ]
  },
  {
   "cell_type": "code",
   "execution_count": 4,
   "id": "f2bec473",
   "metadata": {},
   "outputs": [],
   "source": [
    "# Convert Diagnosis to binary values and separate features and labels\n",
    "data['Diagnosis'] = data['Diagnosis'].map({'M': 1, 'B': 0})\n",
    "X = data.drop(\"Diagnosis\", axis=1).values\n",
    "y = data['Diagnosis'].values\n",
    "\n",
    "# Standardize the feature values\n",
    "scaler = StandardScaler()\n",
    "X = scaler.fit_transform(X)\n",
    "\n",
    "# Split dataset into training, validation, and test sets\n",
    "X_train, X_temp, y_train, y_temp = train_test_split(X, y, test_size=0.3, random_state=42)\n",
    "X_val, X_test, y_val, y_test = train_test_split(X_temp, y_temp, test_size=0.5, random_state=42)"
   ]
  },
  {
   "cell_type": "markdown",
   "id": "0f022cd3",
   "metadata": {},
   "source": [
    "## Step 5: Create PyTorch Dataset and DataLoader\n",
    "\n",
    "We create a custom PyTorch Dataset class to wrap our data and a DataLoader for efficient batch processing.\n"
   ]
  },
  {
   "cell_type": "code",
   "execution_count": 5,
   "id": "fa8dc1ab",
   "metadata": {},
   "outputs": [],
   "source": [
    "class BreastCancerDataset(Dataset):\n",
    "    def __init__(self, features, labels):\n",
    "        self.features = torch.tensor(features, dtype=torch.float32)\n",
    "        self.labels = torch.tensor(labels, dtype=torch.long)\n",
    "\n",
    "    def __len__(self):\n",
    "        return len(self.labels)\n",
    "\n",
    "    def __getitem__(self, idx):\n",
    "        return self.features[idx], self.labels[idx]\n",
    "\n",
    "# Create datasets\n",
    "train_dataset = BreastCancerDataset(X_train, y_train)\n",
    "val_dataset = BreastCancerDataset(X_val, y_val)\n",
    "test_dataset = BreastCancerDataset(X_test, y_test)\n",
    "\n",
    "# Create data loaders\n",
    "train_loader = DataLoader(train_dataset, batch_size=32, shuffle=True)\n",
    "val_loader = DataLoader(val_dataset, batch_size=32)\n",
    "test_loader = DataLoader(test_dataset, batch_size=32)"
   ]
  },
  {
   "cell_type": "markdown",
   "id": "b84a75dc",
   "metadata": {},
   "source": [
    "## Step 6: Define the Neural Network Model\n",
    "\n",
    "We define a simple feedforward neural network using PyTorch's `nn.Module` for binary classification.\n"
   ]
  },
  {
   "cell_type": "code",
   "execution_count": 6,
   "id": "d002185a",
   "metadata": {},
   "outputs": [],
   "source": [
    "class BreastCancerModel(nn.Module):\n",
    "    def __init__(self):\n",
    "        super(BreastCancerModel, self).__init__()\n",
    "        self.fc1 = nn.Linear(30, 64)\n",
    "        self.fc2 = nn.Linear(64, 32)\n",
    "        self.fc3 = nn.Linear(32, 2)  # 2 output classes\n",
    "\n",
    "    def forward(self, x):\n",
    "        x = torch.relu(self.fc1(x))\n",
    "        x = torch.relu(self.fc2(x))\n",
    "        x = self.fc3(x)\n",
    "        return x\n",
    "\n",
    "model = BreastCancerModel()"
   ]
  },
  {
   "cell_type": "markdown",
   "id": "43987c9b",
   "metadata": {},
   "source": [
    "## Step 7: Define the Loss Function and Optimizer\n",
    "\n",
    "For this classification task, we use CrossEntropyLoss and the Adam optimizer.\n"
   ]
  },
  {
   "cell_type": "code",
   "execution_count": 7,
   "id": "b2b553e8",
   "metadata": {},
   "outputs": [],
   "source": [
    "criterion = nn.CrossEntropyLoss()\n",
    "optimizer = torch.optim.Adam(model.parameters(), lr=0.001)"
   ]
  },
  {
   "cell_type": "markdown",
   "id": "73462fd0",
   "metadata": {},
   "source": [
    "## Step 8: Train the Model\n",
    "\n",
    "We define a loop to train the model for a fixed number of epochs, with validation after each epoch.\n"
   ]
  },
  {
   "cell_type": "code",
   "execution_count": 8,
   "id": "46b07f9f",
   "metadata": {},
   "outputs": [
    {
     "name": "stdout",
     "output_type": "stream",
     "text": [
      "Epoch [1/20], Train Loss: 0.5947, Validation Loss: 0.5169, Validation Accuracy: 75.29%\n",
      "Epoch [2/20], Train Loss: 0.4303, Validation Loss: 0.3452, Validation Accuracy: 94.12%\n",
      "Epoch [3/20], Train Loss: 0.2814, Validation Loss: 0.2117, Validation Accuracy: 95.29%\n",
      "Epoch [4/20], Train Loss: 0.1870, Validation Loss: 0.1376, Validation Accuracy: 96.47%\n",
      "Epoch [5/20], Train Loss: 0.1281, Validation Loss: 0.1041, Validation Accuracy: 98.82%\n",
      "Epoch [6/20], Train Loss: 0.1008, Validation Loss: 0.0873, Validation Accuracy: 98.82%\n",
      "Epoch [7/20], Train Loss: 0.0847, Validation Loss: 0.0797, Validation Accuracy: 98.82%\n",
      "Epoch [8/20], Train Loss: 0.0741, Validation Loss: 0.0758, Validation Accuracy: 98.82%\n",
      "Epoch [9/20], Train Loss: 0.0729, Validation Loss: 0.0749, Validation Accuracy: 98.82%\n",
      "Epoch [10/20], Train Loss: 0.0684, Validation Loss: 0.0743, Validation Accuracy: 98.82%\n",
      "Epoch [11/20], Train Loss: 0.0560, Validation Loss: 0.0749, Validation Accuracy: 98.82%\n",
      "Epoch [12/20], Train Loss: 0.0521, Validation Loss: 0.0745, Validation Accuracy: 98.82%\n",
      "Epoch [13/20], Train Loss: 0.0512, Validation Loss: 0.0758, Validation Accuracy: 98.82%\n",
      "Epoch [14/20], Train Loss: 0.0497, Validation Loss: 0.0752, Validation Accuracy: 98.82%\n",
      "Epoch [15/20], Train Loss: 0.0422, Validation Loss: 0.0765, Validation Accuracy: 97.65%\n",
      "Epoch [16/20], Train Loss: 0.0397, Validation Loss: 0.0779, Validation Accuracy: 97.65%\n",
      "Epoch [17/20], Train Loss: 0.0371, Validation Loss: 0.0805, Validation Accuracy: 97.65%\n",
      "Epoch [18/20], Train Loss: 0.0351, Validation Loss: 0.0814, Validation Accuracy: 97.65%\n",
      "Epoch [19/20], Train Loss: 0.0333, Validation Loss: 0.0825, Validation Accuracy: 97.65%\n",
      "Epoch [20/20], Train Loss: 0.0311, Validation Loss: 0.0843, Validation Accuracy: 97.65%\n"
     ]
    }
   ],
   "source": [
    "num_epochs = 20\n",
    "\n",
    "for epoch in range(num_epochs):\n",
    "    model.train()\n",
    "    running_loss = 0.0\n",
    "    for inputs, labels in train_loader:\n",
    "        optimizer.zero_grad()\n",
    "        outputs = model(inputs)\n",
    "        loss = criterion(outputs, labels)\n",
    "        loss.backward()\n",
    "        optimizer.step()\n",
    "        running_loss += loss.item()\n",
    "\n",
    "    # Validation\n",
    "    model.eval()\n",
    "    val_loss = 0.0\n",
    "    val_correct = 0\n",
    "    val_total = 0\n",
    "    with torch.no_grad():\n",
    "        for inputs, labels in val_loader:\n",
    "            outputs = model(inputs)\n",
    "            loss = criterion(outputs, labels)\n",
    "            val_loss += loss.item()\n",
    "            _, predicted = torch.max(outputs, 1)\n",
    "            val_correct += (predicted == labels).sum().item()\n",
    "            val_total += labels.size(0)\n",
    "\n",
    "    print(f\"Epoch [{epoch+1}/{num_epochs}], Train Loss: {running_loss/len(train_loader):.4f}, Validation Loss: {val_loss/len(val_loader):.4f}, Validation Accuracy: {100 * val_correct / val_total:.2f}%\")"
   ]
  },
  {
   "cell_type": "markdown",
   "id": "397de2ea",
   "metadata": {},
   "source": [
    "## Step 9: Test the Model"
   ]
  },
  {
   "cell_type": "code",
   "execution_count": 9,
   "id": "30e5705f",
   "metadata": {},
   "outputs": [
    {
     "name": "stdout",
     "output_type": "stream",
     "text": [
      "Test Accuracy: 100.00%\n"
     ]
    }
   ],
   "source": [
    "model.eval()\n",
    "test_correct = 0\n",
    "test_total = 0\n",
    "with torch.no_grad():\n",
    "    for inputs, labels in test_loader:\n",
    "        outputs = model(inputs)\n",
    "        _, predicted = torch.max(outputs, 1)\n",
    "        test_correct += (predicted == labels).sum().item()\n",
    "        test_total += labels.size(0)\n",
    "\n",
    "print(f\"Test Accuracy: {100 * test_correct / test_total:.2f}%\")"
   ]
  }
 ],
 "metadata": {
  "kernelspec": {
   "display_name": "Python 3 (ipykernel)",
   "language": "python",
   "name": "python3"
  },
  "language_info": {
   "codemirror_mode": {
    "name": "ipython",
    "version": 3
   },
   "file_extension": ".py",
   "mimetype": "text/x-python",
   "name": "python",
   "nbconvert_exporter": "python",
   "pygments_lexer": "ipython3",
   "version": "3.9.13"
  }
 },
 "nbformat": 4,
 "nbformat_minor": 5
}
